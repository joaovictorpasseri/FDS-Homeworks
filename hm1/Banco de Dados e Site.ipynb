{
 "cells": [
  {
   "cell_type": "markdown",
   "metadata": {},
   "source": [
    "# Banco de dados\n",
    "Aqui nós criamos o banco de dados hm1. Ele conterá os dados coletados da página do autor desejado, utilizando a função scrape"
   ]
  },
  {
   "cell_type": "code",
   "execution_count": 1,
   "metadata": {},
   "outputs": [],
   "source": [
    "from sqlite3 import dbapi2 as sq3\n",
    "import os\n",
    "import sqlite3\n",
    "import pandas as pd\n",
    "import altair as alt\n",
    "import networkx as nx\n",
    "import matplotlib.pyplot as plt\n",
    "from scraper_scholar import * \n"
   ]
  },
  {
   "cell_type": "code",
   "execution_count": 2,
   "metadata": {},
   "outputs": [
    {
     "name": "stderr",
     "output_type": "stream",
     "text": [
      "C:\\Users\\julia\\Google Drive\\MESTRADO\\EMAP-FGV\\Fundamentos de Dada Scientists\\hm1\\scraper_scholar.py:44: UserWarning: No parser was explicitly specified, so I'm using the best available HTML parser for this system (\"lxml\"). This usually isn't a problem, but if you run this code on another system, or in a different virtual environment, it may use a different parser and behave differently.\n",
      "\n",
      "The code that caused this warning is on line 44 of the file C:\\Users\\julia\\Google Drive\\MESTRADO\\EMAP-FGV\\Fundamentos de Dada Scientists\\hm1\\scraper_scholar.py. To get rid of this warning, pass the additional argument 'features=\"lxml\"' to the BeautifulSoup constructor.\n",
      "\n",
      "  html = BeautifulSoup(driver.page_source)\n"
     ]
    },
    {
     "name": "stdout",
     "output_type": "stream",
     "text": [
      "[{'title': 'D3: Data-Driven Documents', 'authors': ['M Bostock', 'V Ogievetsky', 'J Heer']}, {'title': 'Prefuse: a toolkit for interactive information visualization', 'authors': ['J Heer', 'SK Card', 'JA Landay']}, {'title': 'Vizster: Visualizing online social networks', 'authors': ['J Heer', 'D Boyd']}, {'title': 'Narrative visualization: Telling stories with data', 'authors': ['E Segel', 'J Heer']}, {'title': 'Crowdsourcing graphical perception: using mechanical turk to assess visualization design', 'authors': ['J Heer', 'M Bostock']}]\n"
     ]
    }
   ],
   "source": [
    "dados = scrape('Jeffrey Heer') #Coletando informações pela função scrape\n",
    "print(dados[0:5])"
   ]
  },
  {
   "cell_type": "markdown",
   "metadata": {},
   "source": [
    "Construindo o banco de dados"
   ]
  },
  {
   "cell_type": "code",
   "execution_count": 3,
   "metadata": {},
   "outputs": [],
   "source": [
    "ourschema = '''\n",
    "    DROP TABLE IF EXISTS \"author\";\n",
    "    DROP TABLE IF EXISTS \"paper\";\n",
    "    DROP TABLE IF EXISTS \"author_paper\";\n",
    "    CREATE TABLE \"author\" (\n",
    "        \"id\" INTEGER PRIMARY KEY  NOT NULL ,\n",
    "        \"author\" VARCHAR NOT NULL UNIQUE\n",
    "    );\n",
    "    CREATE TABLE \"paper\" ( \n",
    "        \"id\" INTEGER PRIMARY KEY  NOT NULL ,\n",
    "        \"paper\" VARCHAR NOT NULL UNIQUE\n",
    "    );\n",
    "    CREATE TABLE \"author_paper\" (\n",
    "        'author_id' VARCHAR,\n",
    "        'paper_id' VARCHAR,\n",
    "        FOREIGN KEY(author_id) REFERENCES author(id)\n",
    "        FOREIGN KEY(paper_id) REFERENCES paper(id)\n",
    "    );\n",
    "    '''"
   ]
  },
  {
   "cell_type": "code",
   "execution_count": 4,
   "metadata": {},
   "outputs": [],
   "source": [
    "PATHSTART=\".\"\n",
    "def get_db(dbfile):\n",
    "    sqlite_db = sq3.connect(os.path.join(PATHSTART, dbfile))\n",
    "    return sqlite_db\n",
    "def init_db(dbfile, schema):\n",
    "    \"\"\"Creates the database tables.\"\"\"\n",
    "    db = get_db(dbfile)\n",
    "    db.cursor()\n",
    "    db.executescript(schema)\n",
    "    db.commit()\n",
    "    return db"
   ]
  },
  {
   "cell_type": "code",
   "execution_count": 5,
   "metadata": {},
   "outputs": [],
   "source": [
    "db=init_db(\"hw1.db\", ourschema)"
   ]
  },
  {
   "cell_type": "code",
   "execution_count": 6,
   "metadata": {},
   "outputs": [],
   "source": [
    "#criando data papers, authors e authors_paper\n",
    "x = []\n",
    "for i in dados:\n",
    "    for j in i['authors']:\n",
    "        x.append([i['title'],j.strip()])\n",
    "x = pd.DataFrame(x,columns=['paper','author'])\n",
    "\n",
    "x1 = list(sorted(set(x['paper'])))\n",
    "x2 = list(sorted(set(x['author'])))\n",
    "paper=pd.DataFrame(x1,columns=['paper'])\n",
    "\n",
    "author=pd.DataFrame(x2,columns=['author'])    "
   ]
  },
  {
   "cell_type": "code",
   "execution_count": 8,
   "metadata": {},
   "outputs": [
    {
     "data": {
      "text/html": [
       "<div>\n",
       "<style scoped>\n",
       "    .dataframe tbody tr th:only-of-type {\n",
       "        vertical-align: middle;\n",
       "    }\n",
       "\n",
       "    .dataframe tbody tr th {\n",
       "        vertical-align: top;\n",
       "    }\n",
       "\n",
       "    .dataframe thead th {\n",
       "        text-align: right;\n",
       "    }\n",
       "</style>\n",
       "<table border=\"1\" class=\"dataframe\">\n",
       "  <thead>\n",
       "    <tr style=\"text-align: right;\">\n",
       "      <th></th>\n",
       "      <th>paper</th>\n",
       "    </tr>\n",
       "  </thead>\n",
       "  <tbody>\n",
       "    <tr>\n",
       "      <th>0</th>\n",
       "      <td>A Visual Inspection of Online Health Communities</td>\n",
       "    </tr>\n",
       "    <tr>\n",
       "      <th>1</th>\n",
       "      <td>A demonstration of the BigDAWG polystore system</td>\n",
       "    </tr>\n",
       "    <tr>\n",
       "      <th>2</th>\n",
       "      <td>A taxonomy of tools that support the fluent an...</td>\n",
       "    </tr>\n",
       "    <tr>\n",
       "      <th>3</th>\n",
       "      <td>A tour through the visualization zoo.</td>\n",
       "    </tr>\n",
       "    <tr>\n",
       "      <th>4</th>\n",
       "      <td>Active capture: automatic direction for automa...</td>\n",
       "    </tr>\n",
       "  </tbody>\n",
       "</table>\n",
       "</div>"
      ],
      "text/plain": [
       "                                               paper\n",
       "0   A Visual Inspection of Online Health Communities\n",
       "1    A demonstration of the BigDAWG polystore system\n",
       "2  A taxonomy of tools that support the fluent an...\n",
       "3              A tour through the visualization zoo.\n",
       "4  Active capture: automatic direction for automa..."
      ]
     },
     "execution_count": 8,
     "metadata": {},
     "output_type": "execute_result"
    }
   ],
   "source": [
    "paper.head(5)"
   ]
  },
  {
   "cell_type": "markdown",
   "metadata": {},
   "source": [
    "Inserindo dados"
   ]
  },
  {
   "cell_type": "code",
   "execution_count": 9,
   "metadata": {},
   "outputs": [],
   "source": [
    "author.to_sql(\"author\", db, if_exists=\"append\", index=False)\n",
    "paper.to_sql(\"paper\", db, if_exists=\"append\", index=False)\n"
   ]
  },
  {
   "cell_type": "code",
   "execution_count": 10,
   "metadata": {},
   "outputs": [],
   "source": [
    "def make_query(tabela):\n",
    "    c=db.cursor().execute(\"SELECT * FROM {};\".format(tabela))\n",
    "    return c.fetchall()"
   ]
  },
  {
   "cell_type": "code",
   "execution_count": 11,
   "metadata": {},
   "outputs": [],
   "source": [
    "a = make_query('author')\n",
    "t = make_query('paper')\n",
    "a = pd.DataFrame(a,columns=['author_id','author'])\n",
    "t = pd.DataFrame(t,columns=['paper_id','paper'])\n",
    "author_paper = pd.merge(x,a,on='author') \n",
    "author_paper = pd.merge(author_paper,t,on='paper') \n",
    "\n"
   ]
  },
  {
   "cell_type": "code",
   "execution_count": 12,
   "metadata": {},
   "outputs": [
    {
     "data": {
      "text/html": [
       "<div>\n",
       "<style scoped>\n",
       "    .dataframe tbody tr th:only-of-type {\n",
       "        vertical-align: middle;\n",
       "    }\n",
       "\n",
       "    .dataframe tbody tr th {\n",
       "        vertical-align: top;\n",
       "    }\n",
       "\n",
       "    .dataframe thead th {\n",
       "        text-align: right;\n",
       "    }\n",
       "</style>\n",
       "<table border=\"1\" class=\"dataframe\">\n",
       "  <thead>\n",
       "    <tr style=\"text-align: right;\">\n",
       "      <th></th>\n",
       "      <th>paper</th>\n",
       "      <th>author</th>\n",
       "      <th>author_id</th>\n",
       "      <th>paper_id</th>\n",
       "    </tr>\n",
       "  </thead>\n",
       "  <tbody>\n",
       "    <tr>\n",
       "      <th>0</th>\n",
       "      <td>D3: Data-Driven Documents</td>\n",
       "      <td>M Bostock</td>\n",
       "      <td>163</td>\n",
       "      <td>39</td>\n",
       "    </tr>\n",
       "    <tr>\n",
       "      <th>1</th>\n",
       "      <td>D3: Data-Driven Documents</td>\n",
       "      <td>V Ogievetsky</td>\n",
       "      <td>261</td>\n",
       "      <td>39</td>\n",
       "    </tr>\n",
       "    <tr>\n",
       "      <th>2</th>\n",
       "      <td>D3: Data-Driven Documents</td>\n",
       "      <td>J Heer</td>\n",
       "      <td>123</td>\n",
       "      <td>39</td>\n",
       "    </tr>\n",
       "    <tr>\n",
       "      <th>3</th>\n",
       "      <td>Crowdsourcing graphical perception: using mech...</td>\n",
       "      <td>M Bostock</td>\n",
       "      <td>163</td>\n",
       "      <td>37</td>\n",
       "    </tr>\n",
       "    <tr>\n",
       "      <th>4</th>\n",
       "      <td>Crowdsourcing graphical perception: using mech...</td>\n",
       "      <td>J Heer</td>\n",
       "      <td>123</td>\n",
       "      <td>37</td>\n",
       "    </tr>\n",
       "  </tbody>\n",
       "</table>\n",
       "</div>"
      ],
      "text/plain": [
       "                                               paper        author  author_id  \\\n",
       "0                          D3: Data-Driven Documents     M Bostock        163   \n",
       "1                          D3: Data-Driven Documents  V Ogievetsky        261   \n",
       "2                          D3: Data-Driven Documents        J Heer        123   \n",
       "3  Crowdsourcing graphical perception: using mech...     M Bostock        163   \n",
       "4  Crowdsourcing graphical perception: using mech...        J Heer        123   \n",
       "\n",
       "   paper_id  \n",
       "0        39  \n",
       "1        39  \n",
       "2        39  \n",
       "3        37  \n",
       "4        37  "
      ]
     },
     "execution_count": 12,
     "metadata": {},
     "output_type": "execute_result"
    }
   ],
   "source": [
    "author_paper.head(5)"
   ]
  },
  {
   "cell_type": "code",
   "execution_count": 17,
   "metadata": {},
   "outputs": [],
   "source": [
    "#author_paper = pd.concat([author_paper['author_id'],author_paper['paper_id']],axis=1)\n",
    "author_paper.to_sql(\"author_paper\", db, if_exists=\"append\", index=False,)"
   ]
  },
  {
   "cell_type": "code",
   "execution_count": null,
   "metadata": {},
   "outputs": [],
   "source": []
  }
 ],
 "metadata": {
  "kernelspec": {
   "display_name": "Python 3",
   "language": "python",
   "name": "python3"
  },
  "language_info": {
   "codemirror_mode": {
    "name": "ipython",
    "version": 3
   },
   "file_extension": ".py",
   "mimetype": "text/x-python",
   "name": "python",
   "nbconvert_exporter": "python",
   "pygments_lexer": "ipython3",
   "version": "3.7.1"
  }
 },
 "nbformat": 4,
 "nbformat_minor": 2
}
